{
 "cells": [
  {
   "cell_type": "code",
   "execution_count": 2,
   "metadata": {},
   "outputs": [],
   "source": [
    "import numpy as np\n",
    "import pandas as pd\n",
    "import matplotlib.pyplot as plt\n",
    "%matplotlib inline"
   ]
  },
  {
   "cell_type": "code",
   "execution_count": 3,
   "metadata": {},
   "outputs": [],
   "source": [
    "tennis = pd.read_csv('naive.csv')"
   ]
  },
  {
   "cell_type": "code",
   "execution_count": 4,
   "metadata": {},
   "outputs": [],
   "source": [
    "from sklearn.naive_bayes import GaussianNB, BernoulliNB, MultinomialNB\n",
    "from sklearn.model_selection import train_test_split\n",
    "from sklearn.metrics import *"
   ]
  },
  {
   "cell_type": "code",
   "execution_count": 5,
   "metadata": {},
   "outputs": [],
   "source": [
    "o = {'sunny': 1, 'overcast': 2, 'rainy': 3}\n",
    "tennis.outlook = [o[item] for item in tennis.outlook.astype(str)]\n",
    "\n",
    "t = {'hot': 1, 'mild': 2, 'cool': 3}\n",
    "tennis.temp = [t[item] for item in tennis.temp.astype(str)]\n",
    "\n",
    "h = {'high': 1, 'normal': 2}\n",
    "tennis.humidity = [h[item] for item in tennis.humidity.astype(str)]\n",
    "\n",
    "w = {'True': 1, 'False': 2}\n",
    "tennis.windy = [w[item] for item in tennis.windy.astype(str)]"
   ]
  },
  {
   "cell_type": "code",
   "execution_count": 11,
   "metadata": {},
   "outputs": [
    {
     "name": "stdout",
     "output_type": "stream",
     "text": [
      "    outlook  temp  humidity  windy\n",
      "0         1     1         1      2\n",
      "1         1     1         1      1\n",
      "2         2     1         1      2\n",
      "3         3     2         1      2\n",
      "4         3     3         2      2\n",
      "5         3     3         2      1\n",
      "6         2     3         2      1\n",
      "7         1     2         1      2\n",
      "8         1     3         2      2\n",
      "9         3     2         2      2\n",
      "10        1     2         2      1\n",
      "11        2     2         1      1\n",
      "12        2     1         2      2\n",
      "13        3     2         1      1\n",
      "0      no\n",
      "1      no\n",
      "2     yes\n",
      "3     yes\n",
      "4     yes\n",
      "5      no\n",
      "6     yes\n",
      "7      no\n",
      "8     yes\n",
      "9     yes\n",
      "10    yes\n",
      "11    yes\n",
      "12    yes\n",
      "13     no\n",
      "Name: play, dtype: object\n"
     ]
    }
   ],
   "source": [
    "x = tennis.iloc[:,0:-1] # X is the features in our dataset\n",
    "y = tennis.iloc[:,-1]   # y is the Labels in our dataset\n",
    "#x = np.array(tennis)[:,0:-1]\n",
    "#y = np.array(tennis)[:,-1]\n",
    "print(x)\n",
    "print(y)\n",
    "X_train, X_test, y_train, y_test = train_test_split(x, y, test_size=0.40, random_state=42)"
   ]
  },
  {
   "cell_type": "code",
   "execution_count": 12,
   "metadata": {},
   "outputs": [
    {
     "data": {
      "text/plain": [
       "array(['yes', 'yes', 'yes', 'yes', 'yes', 'yes'], dtype='<U3')"
      ]
     },
     "execution_count": 12,
     "metadata": {},
     "output_type": "execute_result"
    }
   ],
   "source": [
    "model = MultinomialNB().fit(X_train, y_train)\n",
    "predM = model.predict(X_test)\n",
    "predM"
   ]
  },
  {
   "cell_type": "code",
   "execution_count": 13,
   "metadata": {},
   "outputs": [
    {
     "data": {
      "text/html": [
       "<div>\n",
       "<style scoped>\n",
       "    .dataframe tbody tr th:only-of-type {\n",
       "        vertical-align: middle;\n",
       "    }\n",
       "\n",
       "    .dataframe tbody tr th {\n",
       "        vertical-align: top;\n",
       "    }\n",
       "\n",
       "    .dataframe thead th {\n",
       "        text-align: right;\n",
       "    }\n",
       "</style>\n",
       "<table border=\"1\" class=\"dataframe\">\n",
       "  <thead>\n",
       "    <tr style=\"text-align: right;\">\n",
       "      <th>Predicted</th>\n",
       "      <th>yes</th>\n",
       "      <th>All</th>\n",
       "    </tr>\n",
       "    <tr>\n",
       "      <th>Actual</th>\n",
       "      <th></th>\n",
       "      <th></th>\n",
       "    </tr>\n",
       "  </thead>\n",
       "  <tbody>\n",
       "    <tr>\n",
       "      <th>no</th>\n",
       "      <td>2</td>\n",
       "      <td>2</td>\n",
       "    </tr>\n",
       "    <tr>\n",
       "      <th>yes</th>\n",
       "      <td>4</td>\n",
       "      <td>4</td>\n",
       "    </tr>\n",
       "    <tr>\n",
       "      <th>All</th>\n",
       "      <td>6</td>\n",
       "      <td>6</td>\n",
       "    </tr>\n",
       "  </tbody>\n",
       "</table>\n",
       "</div>"
      ],
      "text/plain": [
       "Predicted  yes  All\n",
       "Actual             \n",
       "no           2    2\n",
       "yes          4    4\n",
       "All          6    6"
      ]
     },
     "execution_count": 13,
     "metadata": {},
     "output_type": "execute_result"
    }
   ],
   "source": [
    "pd.crosstab(y_test, predM, rownames=['Actual'], colnames=['Predicted'], margins=True)"
   ]
  },
  {
   "cell_type": "code",
   "execution_count": 19,
   "metadata": {},
   "outputs": [
    {
     "name": "stdout",
     "output_type": "stream",
     "text": [
      "The accuracy of the Multinomial model is  0.6666666666666666\n"
     ]
    }
   ],
   "source": [
    "accuracy_score = accuracy_score(y_test, predM)\n",
    "print('The accuracy of the Multinomial model is ', accuracy_score)"
   ]
  }
 ],
 "metadata": {
  "kernelspec": {
   "display_name": "Python 3",
   "language": "python",
   "name": "python3"
  },
  "language_info": {
   "codemirror_mode": {
    "name": "ipython",
    "version": 3
   },
   "file_extension": ".py",
   "mimetype": "text/x-python",
   "name": "python",
   "nbconvert_exporter": "python",
   "pygments_lexer": "ipython3",
   "version": "3.7.6"
  }
 },
 "nbformat": 4,
 "nbformat_minor": 5
}
