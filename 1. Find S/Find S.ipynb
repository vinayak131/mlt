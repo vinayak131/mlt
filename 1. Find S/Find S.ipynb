{
 "cells": [
  {
   "cell_type": "code",
   "execution_count": 1,
   "metadata": {},
   "outputs": [],
   "source": [
    "import pandas as pd"
   ]
  },
  {
   "cell_type": "code",
   "execution_count": 2,
   "metadata": {},
   "outputs": [],
   "source": [
    "dataset_file = './data.csv'\n",
    "columns_to_drop = []\n",
    "true_value = 'Yes'"
   ]
  },
  {
   "cell_type": "code",
   "execution_count": 3,
   "metadata": {},
   "outputs": [],
   "source": [
    "data = pd.read_csv(dataset_file)\n",
    "data = data.drop(columns_to_drop, axis=1)"
   ]
  },
  {
   "cell_type": "code",
   "execution_count": 4,
   "metadata": {},
   "outputs": [],
   "source": [
    "def get_hypothesis(data, true_value):\n",
    "    hypothesis = [\"Φ\"] * (len(data.columns) - 1)\n",
    "    yield hypothesis\n",
    "    \n",
    "    for row in data.values:\n",
    "        if row[-1] == true_value:\n",
    "            for i in range(len(row) - 1):\n",
    "                if hypothesis[i] == \"Φ\":\n",
    "                    hypothesis[i] = row[i]\n",
    "                elif hypothesis[i] != row[i]:\n",
    "                    hypothesis[i] = \"?\"\n",
    "        yield hypothesis\n",
    "\n",
    "    yield hypothesis"
   ]
  },
  {
   "cell_type": "code",
   "execution_count": 5,
   "metadata": {},
   "outputs": [
    {
     "name": "stdout",
     "output_type": "stream",
     "text": [
      "S0 Hypothesis is ['Φ', 'Φ', 'Φ']\n",
      "S1 Hypothesis is ['Φ', 'Φ', 'Φ']\n",
      "S2 Hypothesis is ['Φ', 'Φ', 'Φ']\n",
      "S3 Hypothesis is ['Small', 'Red', 'Circle']\n",
      "S4 Hypothesis is ['Small', 'Red', 'Circle']\n",
      "S5 Hypothesis is ['Small', '?', 'Circle']\n",
      "Final Hypothesis is ['Small', '?', 'Circle']\n"
     ]
    }
   ],
   "source": [
    "hypothesis = get_hypothesis(data, true_value)\n",
    "\n",
    "for i in range(len(data) + 1):\n",
    "    print(\"S\" + str(i) + \" Hypothesis is\", next(hypothesis))\n",
    "\n",
    "print(\"Final Hypothesis is\", next(hypothesis))"
   ]
  }
 ],
 "metadata": {
  "kernelspec": {
   "display_name": "Python 3",
   "language": "python",
   "name": "python3"
  },
  "language_info": {
   "codemirror_mode": {
    "name": "ipython",
    "version": 3
   },
   "file_extension": ".py",
   "mimetype": "text/x-python",
   "name": "python",
   "nbconvert_exporter": "python",
   "pygments_lexer": "ipython3",
   "version": "3.7.6"
  }
 },
 "nbformat": 4,
 "nbformat_minor": 5
}
