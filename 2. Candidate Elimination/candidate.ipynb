{
 "cells": [
  {
   "cell_type": "code",
   "execution_count": 4,
   "metadata": {},
   "outputs": [],
   "source": [
    "import pandas as pd\n",
    "import numpy as np"
   ]
  },
  {
   "cell_type": "code",
   "execution_count": 5,
   "metadata": {},
   "outputs": [
    {
     "data": {
      "text/html": [
       "<div>\n",
       "<style scoped>\n",
       "    .dataframe tbody tr th:only-of-type {\n",
       "        vertical-align: middle;\n",
       "    }\n",
       "\n",
       "    .dataframe tbody tr th {\n",
       "        vertical-align: top;\n",
       "    }\n",
       "\n",
       "    .dataframe thead th {\n",
       "        text-align: right;\n",
       "    }\n",
       "</style>\n",
       "<table border=\"1\" class=\"dataframe\">\n",
       "  <thead>\n",
       "    <tr style=\"text-align: right;\">\n",
       "      <th></th>\n",
       "      <th>size</th>\n",
       "      <th>color</th>\n",
       "      <th>shape</th>\n",
       "      <th>class</th>\n",
       "    </tr>\n",
       "  </thead>\n",
       "  <tbody>\n",
       "    <tr>\n",
       "      <th>0</th>\n",
       "      <td>big</td>\n",
       "      <td>red</td>\n",
       "      <td>circle</td>\n",
       "      <td>no</td>\n",
       "    </tr>\n",
       "    <tr>\n",
       "      <th>1</th>\n",
       "      <td>small</td>\n",
       "      <td>red</td>\n",
       "      <td>triangle</td>\n",
       "      <td>no</td>\n",
       "    </tr>\n",
       "    <tr>\n",
       "      <th>2</th>\n",
       "      <td>small</td>\n",
       "      <td>red</td>\n",
       "      <td>circle</td>\n",
       "      <td>yes</td>\n",
       "    </tr>\n",
       "    <tr>\n",
       "      <th>3</th>\n",
       "      <td>big</td>\n",
       "      <td>blue</td>\n",
       "      <td>circle</td>\n",
       "      <td>no</td>\n",
       "    </tr>\n",
       "    <tr>\n",
       "      <th>4</th>\n",
       "      <td>small</td>\n",
       "      <td>blue</td>\n",
       "      <td>circle</td>\n",
       "      <td>yes</td>\n",
       "    </tr>\n",
       "  </tbody>\n",
       "</table>\n",
       "</div>"
      ],
      "text/plain": [
       "    size color     shape class\n",
       "0    big   red    circle    no\n",
       "1  small   red  triangle    no\n",
       "2  small   red    circle   yes\n",
       "3    big  blue    circle    no\n",
       "4  small  blue    circle   yes"
      ]
     },
     "execution_count": 5,
     "metadata": {},
     "output_type": "execute_result"
    }
   ],
   "source": [
    "data = pd.read_csv('data4.csv')\n",
    "data"
   ]
  },
  {
   "cell_type": "code",
   "execution_count": 6,
   "metadata": {},
   "outputs": [
    {
     "name": "stdout",
     "output_type": "stream",
     "text": [
      "['no' 'no' 'yes' 'no' 'yes']\n"
     ]
    }
   ],
   "source": [
    "target = np.array(data)[:,-1]\n",
    "print(target)"
   ]
  },
  {
   "cell_type": "code",
   "execution_count": 7,
   "metadata": {},
   "outputs": [
    {
     "name": "stdout",
     "output_type": "stream",
     "text": [
      "[['big' 'red' 'circle']\n",
      " ['small' 'red' 'triangle']\n",
      " ['small' 'red' 'circle']\n",
      " ['big' 'blue' 'circle']\n",
      " ['small' 'blue' 'circle']]\n"
     ]
    }
   ],
   "source": [
    "concepts = np.array(data)[:,:-1]\n",
    "print(concepts)"
   ]
  },
  {
   "cell_type": "code",
   "execution_count": 10,
   "metadata": {},
   "outputs": [
    {
     "name": "stdout",
     "output_type": "stream",
     "text": [
      "\n",
      "Initialization of specific_h and general_h\n",
      "\n",
      "Specific Boundary:  ['big' 'red' 'circle']\n",
      "\n",
      "Generic Boundary:  [['?', '?', '?'], ['?', '?', '?'], ['?', '?', '?']]\n",
      "\n",
      "Instance 1 is  ['big' 'red' 'circle']\n",
      "Instance is Negative \n",
      "Specific Bundary after  1 Instance is  ['big' 'red' 'circle']\n",
      "Generic Boundary after  1 Instance is  [['?', '?', '?'], ['?', '?', '?'], ['?', '?', '?']]\n",
      "\n",
      "\n",
      "\n",
      "Instance 2 is  ['small' 'red' 'triangle']\n",
      "Instance is Negative \n",
      "Specific Bundary after  2 Instance is  ['big' 'red' 'circle']\n",
      "Generic Boundary after  2 Instance is  [['big', '?', '?'], ['?', '?', '?'], ['?', '?', 'circle']]\n",
      "\n",
      "\n",
      "\n",
      "Instance 3 is  ['small' 'red' 'circle']\n",
      "Instance is Positive \n",
      "Specific Bundary after  3 Instance is  ['?' 'red' 'circle']\n",
      "Generic Boundary after  3 Instance is  [['?', '?', '?'], ['?', '?', '?'], ['?', '?', 'circle']]\n",
      "\n",
      "\n",
      "\n",
      "Instance 4 is  ['big' 'blue' 'circle']\n",
      "Instance is Negative \n",
      "Specific Bundary after  4 Instance is  ['?' 'red' 'circle']\n",
      "Generic Boundary after  4 Instance is  [['?', '?', '?'], ['?', 'red', '?'], ['?', '?', '?']]\n",
      "\n",
      "\n",
      "\n",
      "Instance 5 is  ['small' 'blue' 'circle']\n",
      "Instance is Positive \n",
      "Specific Bundary after  5 Instance is  ['?' '?' 'circle']\n",
      "Generic Boundary after  5 Instance is  [['?', '?', '?'], ['?', '?', '?'], ['?', '?', '?']]\n",
      "\n",
      "\n",
      "Final Specific_h: \n",
      "['?' '?' 'circle']\n",
      "Final General_h: \n",
      "[['?', '?', '?'], ['?', '?', '?'], ['?', '?', '?']]\n"
     ]
    }
   ],
   "source": [
    "def learn(concepts, target):\n",
    "    specific_h = concepts[0].copy()\n",
    "    print(\"\\nInitialization of specific_h and general_h\")\n",
    "    print(\"\\nSpecific Boundary: \", specific_h)\n",
    "    general_h = [[\"?\" for i in range(len(specific_h))] for i in range(len(specific_h))]\n",
    "    print(\"\\nGeneric Boundary: \",general_h)\n",
    "    \n",
    "    for i, h in enumerate(concepts):\n",
    "        print(\"\\nInstance\", i+1 , \"is \", h)\n",
    "        if target[i] == \"yes\":\n",
    "            print(\"Instance is Positive \")\n",
    "            for x in range(len(specific_h)):\n",
    "                if h[x]!= specific_h[x]:\n",
    "                    specific_h[x] ='?'\n",
    "                    general_h[x][x] ='?'\n",
    "                    \n",
    "        if target[i] == \"no\":\n",
    "            print(\"Instance is Negative \")\n",
    "            for x in range(len(specific_h)):\n",
    "                if h[x]!= specific_h[x]: \n",
    "                     general_h[x][x] = specific_h[x] \n",
    "                else: \n",
    "                     general_h[x][x] = '?'\n",
    "                \n",
    " \n",
    "        print(\"Specific Bundary after \", i+1, \"Instance is \", specific_h) \n",
    "        print(\"Generic Boundary after \", i+1, \"Instance is \", general_h)\n",
    "        print(\"\\n\")\n",
    "        \n",
    "    indices = [i for i, val in enumerate(general_h) if val == ['?', '?', '?', '?', '?', '?']]\n",
    "    for i in indices: \n",
    "         general_h.remove(['?', '?', '?', '?', '?', '?']) \n",
    "    return specific_h, general_h\n",
    "s_final, g_final = learn(concepts, target)\n",
    "print(\"Final Specific_h: \", s_final, sep=\"\\n\")\n",
    "print(\"Final General_h: \", g_final, sep=\"\\n\")\n",
    "\n"
   ]
  },
  {
   "cell_type": "code",
   "execution_count": null,
   "metadata": {},
   "outputs": [],
   "source": []
  }
 ],
 "metadata": {
  "kernelspec": {
   "display_name": "Python 3",
   "language": "python",
   "name": "python3"
  },
  "language_info": {
   "codemirror_mode": {
    "name": "ipython",
    "version": 3
   },
   "file_extension": ".py",
   "mimetype": "text/x-python",
   "name": "python",
   "nbconvert_exporter": "python",
   "pygments_lexer": "ipython3",
   "version": "3.7.6"
  }
 },
 "nbformat": 4,
 "nbformat_minor": 4
}
