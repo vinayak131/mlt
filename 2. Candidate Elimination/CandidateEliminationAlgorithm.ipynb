{
 "cells": [
  {
   "cell_type": "code",
   "execution_count": 1,
   "metadata": {},
   "outputs": [],
   "source": [
    "import pandas as pd"
   ]
  },
  {
   "cell_type": "code",
   "execution_count": 2,
   "metadata": {},
   "outputs": [],
   "source": [
    "dataset_file = './data.csv'\n",
    "columns_to_drop = ['customerID', 'tenure', 'MonthlyCharges', 'TotalCharges']\n",
    "true_value = 'Yes'"
   ]
  },
  {
   "cell_type": "code",
   "execution_count": 3,
   "metadata": {},
   "outputs": [],
   "source": [
    "dataset_file = './data2.csv'\n",
    "columns_to_drop = []\n",
    "true_value = 'Yes'"
   ]
  },
  {
   "cell_type": "code",
   "execution_count": 4,
   "metadata": {},
   "outputs": [],
   "source": [
    "dataset_file = './data3.csv'\n",
    "columns_to_drop = ['customerID', 'tenure', 'MonthlyCharges', 'TotalCharges']\n",
    "true_value = 'Yes'"
   ]
  },
  {
   "cell_type": "code",
   "execution_count": 5,
   "metadata": {},
   "outputs": [],
   "source": [
    "dataset_file = './data4.csv'\n",
    "columns_to_drop = []\n",
    "true_value = 'yes'"
   ]
  },
  {
   "cell_type": "code",
   "execution_count": 6,
   "metadata": {},
   "outputs": [],
   "source": [
    "data = pd.read_csv(dataset_file)\n",
    "data = data.drop(columns_to_drop, axis=1)"
   ]
  },
  {
   "cell_type": "code",
   "execution_count": 7,
   "metadata": {},
   "outputs": [],
   "source": [
    "def get_hypothesis(data, true_value):\n",
    "    general_hypothesis = [['?'] * (len(data.columns) - 1)]\n",
    "    specific_hypothesis = [[\"ϕ\"] * (len(data.columns) - 1)]\n",
    "    yield general_hypothesis, specific_hypothesis\n",
    "\n",
    "    def is_satisfying(row, hypothesis):\n",
    "        for i in range(len(hypothesis)):\n",
    "            if hypothesis[i] != '?':\n",
    "                if hypothesis[i] != row[i]:\n",
    "                    return False\n",
    "        return True\n",
    "\n",
    "    for i, row in enumerate(data.values):\n",
    "        if row[-1] == true_value:\n",
    "            temp = []\n",
    "            for hypothesis in specific_hypothesis:\n",
    "                for i in range(len(row) - 1):\n",
    "                    if hypothesis[i] == 'ϕ':\n",
    "                        hypothesis[i] = row[i]\n",
    "                    elif hypothesis[i] != row[i]:\n",
    "                        hypothesis[i] = '?'\n",
    "                temp.append(hypothesis)\n",
    "            specific_hypothesis = temp\n",
    "\n",
    "            temp = []\n",
    "            for hypothesis in general_hypothesis:\n",
    "                if is_satisfying(row, hypothesis):\n",
    "                    temp.append(hypothesis)\n",
    "            general_hypothesis = temp\n",
    "        else:\n",
    "            temp = []\n",
    "            for hypothesis in general_hypothesis:\n",
    "                if is_satisfying(row, hypothesis):\n",
    "                    for j, val in enumerate(hypothesis):\n",
    "                        if val == '?':\n",
    "                            for otherData in set(data.iloc[:, j]):\n",
    "                                if otherData != row[j]:\n",
    "                                    new_hypothesis = hypothesis[::]\n",
    "                                    new_hypothesis[j] = otherData\n",
    "                                    temp.append(new_hypothesis)\n",
    "                else:\n",
    "                    temp.append(hypothesis)\n",
    "\n",
    "            temp1 = []\n",
    "            for hypothesis in temp:\n",
    "                for row1 in data[:i + 1].values:\n",
    "                    if row1[-1] == true_value:\n",
    "                        if not is_satisfying(row1, hypothesis):\n",
    "                            break\n",
    "                    else:\n",
    "                        if is_satisfying(row1, hypothesis):\n",
    "                            break\n",
    "                else:\n",
    "                    temp1.append(hypothesis)\n",
    "            \n",
    "            general_hypothesis = temp1\n",
    "        yield general_hypothesis, specific_hypothesis\n",
    "    \n",
    "    yield general_hypothesis, specific_hypothesis"
   ]
  },
  {
   "cell_type": "code",
   "execution_count": 8,
   "metadata": {},
   "outputs": [
    {
     "name": "stdout",
     "output_type": "stream",
     "text": [
      "Hypothesis 0 is ([['?', '?', '?']], [['ϕ', 'ϕ', 'ϕ']])\n",
      "Hypothesis 1 is ([['small', '?', '?'], ['?', 'blue', '?'], ['?', '?', 'triangle']], [['ϕ', 'ϕ', 'ϕ']])\n",
      "Hypothesis 2 is ([['small', 'blue', '?'], ['small', '?', 'circle'], ['?', 'blue', '?'], ['big', '?', 'triangle'], ['?', 'blue', 'triangle']], [['ϕ', 'ϕ', 'ϕ']])\n",
      "Hypothesis 3 is ([['small', '?', 'circle']], [['small', 'red', 'circle']])\n",
      "Hypothesis 4 is ([['small', '?', 'circle']], [['small', 'red', 'circle']])\n",
      "Hypothesis 5 is ([['small', '?', 'circle']], [['small', '?', 'circle']])\n",
      "Final Hypothesis is ([['small', '?', 'circle']], [['small', '?', 'circle']])\n"
     ]
    }
   ],
   "source": [
    "hypothesis = get_hypothesis(data, true_value)\n",
    "\n",
    "for i in range(len(data) + 1):\n",
    "    print(\"Hypothesis\", i,\"is\", next(hypothesis))\n",
    "\n",
    "print(\"Final Hypothesis is\", next(hypothesis))"
   ]
  }
 ],
 "metadata": {
  "kernelspec": {
   "display_name": "Python 3",
   "language": "python",
   "name": "python3"
  },
  "language_info": {
   "codemirror_mode": {
    "name": "ipython",
    "version": 3
   },
   "file_extension": ".py",
   "mimetype": "text/x-python",
   "name": "python",
   "nbconvert_exporter": "python",
   "pygments_lexer": "ipython3",
   "version": "3.7.6"
  }
 },
 "nbformat": 4,
 "nbformat_minor": 5
}
